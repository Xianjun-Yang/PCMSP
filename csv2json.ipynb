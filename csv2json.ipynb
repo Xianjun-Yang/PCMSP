{
 "cells": [
  {
   "cell_type": "code",
   "execution_count": 1,
   "metadata": {},
   "outputs": [],
   "source": [
    "import os\n",
    "import json\n",
    "from TSV_transfer import TSV_transfer"
   ]
  },
  {
   "cell_type": "code",
   "execution_count": 2,
   "metadata": {},
   "outputs": [],
   "source": [
    "# train"
   ]
  },
  {
   "cell_type": "code",
   "execution_count": 5,
   "metadata": {},
   "outputs": [
    {
     "name": "stdout",
     "output_type": "stream",
     "text": [
      "243\n"
     ]
    }
   ],
   "source": [
    "# token_res files\n",
    "path = 'train/'\n",
    "arr = os.listdir(path)\n",
    "print(len(arr))\n",
    "\n",
    "Final = {}\n",
    "Res = []\n",
    "for file in arr:\n",
    "    if file !=  '.DS_Store':\n",
    "        try:\n",
    "            res = TSV_transfer(path + file)\n",
    "            Final[file] = res\n",
    "            for x in res:\n",
    "                Res.append(x)\n",
    "                for y in x['edgeSet']:\n",
    "                    if y['kbID'] == '*':\n",
    "                        print(file)\n",
    "                        \n",
    "        except:\n",
    "            print(file)\n",
    "\n",
    "train = []\n",
    "for file in arr:\n",
    "    if file !=  '.DS_Store':\n",
    "        try:\n",
    "            res = TSV_transfer(path + file)\n",
    "            for x in res:\n",
    "                #if x['edgeSet'] != []:\n",
    "                train.append(x)\n",
    "        except:\n",
    "            print(file)\n",
    "            \n"
   ]
  },
  {
   "cell_type": "code",
   "execution_count": 6,
   "metadata": {},
   "outputs": [
    {
     "name": "stdout",
     "output_type": "stream",
     "text": [
      "11176\n",
      "11586\n",
      "1957\n"
     ]
    }
   ],
   "source": [
    "vertexSet = []\n",
    "edgeSet = []\n",
    "sen = []\n",
    "\n",
    "for example in train:\n",
    "    sen.append(example['tokens'])\n",
    "    \n",
    "    for en in example['vertexSet']:\n",
    "        vertexSet.append(en)\n",
    "\n",
    "    for re in example['edgeSet']:\n",
    "        edgeSet.append(en)\n",
    "\n",
    "print(len(edgeSet))\n",
    "print(len(vertexSet))\n",
    "print(len(sen))"
   ]
  },
  {
   "cell_type": "code",
   "execution_count": null,
   "metadata": {},
   "outputs": [],
   "source": []
  },
  {
   "cell_type": "code",
   "execution_count": 5,
   "metadata": {},
   "outputs": [],
   "source": [
    "len(train)\n",
    "with open('Sentence_train.json', 'w') as f:\n",
    "    json.dump(train, f)"
   ]
  },
  {
   "cell_type": "code",
   "execution_count": 6,
   "metadata": {},
   "outputs": [],
   "source": [
    "# dev"
   ]
  },
  {
   "cell_type": "code",
   "execution_count": 7,
   "metadata": {},
   "outputs": [
    {
     "name": "stdout",
     "output_type": "stream",
     "text": [
      "32\n"
     ]
    }
   ],
   "source": [
    "# token_res files\n",
    "path = 'dev/'\n",
    "arr = os.listdir(path)\n",
    "print(len(arr))\n",
    "\n",
    "Final = {}\n",
    "Res = []\n",
    "for file in arr:\n",
    "    if file !=  '.DS_Store':\n",
    "        try:\n",
    "            res = TSV_transfer(path + file)\n",
    "            Final[file] = res\n",
    "            for x in res:\n",
    "                Res.append(x)\n",
    "                for y in x['edgeSet']:\n",
    "                    if y['kbID'] == 'escr':\n",
    "                        print(file)\n",
    "                        \n",
    "        except:\n",
    "            print(file)\n",
    "\n",
    "dev = []\n",
    "for file in arr:\n",
    "    if file !=  '.DS_Store':\n",
    "        try:\n",
    "            res = TSV_transfer(path + file)\n",
    "            for x in res:\n",
    "                #if x['edgeSet'] != []:\n",
    "                dev.append(x)\n",
    "        except:\n",
    "            print(file)\n",
    "            "
   ]
  },
  {
   "cell_type": "code",
   "execution_count": 8,
   "metadata": {},
   "outputs": [
    {
     "name": "stdout",
     "output_type": "stream",
     "text": [
      "1376\n",
      "1508\n",
      "273\n"
     ]
    }
   ],
   "source": [
    "vertexSet = []\n",
    "edgeSet = []\n",
    "sen = []\n",
    "\n",
    "for example in dev:\n",
    "    sen.append(example['tokens'])\n",
    "    \n",
    "    for en in example['vertexSet']:\n",
    "        vertexSet.append(en)\n",
    "\n",
    "    for re in example['edgeSet']:\n",
    "        edgeSet.append(en)\n",
    "\n",
    "print(len(edgeSet))\n",
    "print(len(vertexSet))\n",
    "print(len(sen))"
   ]
  },
  {
   "cell_type": "code",
   "execution_count": 9,
   "metadata": {},
   "outputs": [],
   "source": [
    "len(dev)\n",
    "with open('Sentence_dev.json', 'w') as f:\n",
    "    json.dump(dev, f)"
   ]
  },
  {
   "cell_type": "code",
   "execution_count": 24,
   "metadata": {},
   "outputs": [],
   "source": [
    "# test"
   ]
  },
  {
   "cell_type": "code",
   "execution_count": 14,
   "metadata": {},
   "outputs": [
    {
     "name": "stdout",
     "output_type": "stream",
     "text": [
      "31\n"
     ]
    }
   ],
   "source": [
    "# token_res files\n",
    "path = 'test/'\n",
    "arr = os.listdir(path)\n",
    "print(len(arr))\n",
    "\n",
    "Final = {}\n",
    "Res = []\n",
    "for file in arr:\n",
    "    if file !=  '.DS_Store':\n",
    "        try:\n",
    "            res = TSV_transfer(path + file)\n",
    "            Final[file] = res\n",
    "            for x in res:\n",
    "                Res.append(x)\n",
    "                for y in x['edgeSet']:\n",
    "                    if y['kbID'] == '*':\n",
    "                        print(file)\n",
    "                        \n",
    "        except:\n",
    "            print(file)\n",
    "\n",
    "test = []\n",
    "for file in arr:\n",
    "    if file !=  '.DS_Store':\n",
    "        try:\n",
    "            res = TSV_transfer(path + file)\n",
    "            for x in res:\n",
    "                #if x['edgeSet'] != []:\n",
    "                test.append(x)\n",
    "        except:\n",
    "            print(file)\n",
    "            \n"
   ]
  },
  {
   "cell_type": "code",
   "execution_count": 15,
   "metadata": {},
   "outputs": [
    {
     "name": "stdout",
     "output_type": "stream",
     "text": [
      "1372\n",
      "1460\n",
      "236\n"
     ]
    }
   ],
   "source": [
    "vertexSet = []\n",
    "edgeSet = []\n",
    "sen = []\n",
    "\n",
    "for example in test:\n",
    "    sen.append(example['tokens'])\n",
    "    \n",
    "    for en in example['vertexSet']:\n",
    "        vertexSet.append(en)\n",
    "\n",
    "    for re in example['edgeSet']:\n",
    "        edgeSet.append(en)\n",
    "\n",
    "print(len(edgeSet))\n",
    "print(len(vertexSet))\n",
    "print(len(sen))"
   ]
  },
  {
   "cell_type": "code",
   "execution_count": 18,
   "metadata": {},
   "outputs": [],
   "source": [
    "new_test = []\n",
    "for example in test:\n",
    "    if example['vertexSet'] != []:\n",
    "        new_test.append(example)"
   ]
  },
  {
   "cell_type": "code",
   "execution_count": 21,
   "metadata": {},
   "outputs": [
    {
     "data": {
      "text/plain": [
       "[]"
      ]
     },
     "execution_count": 21,
     "metadata": {},
     "output_type": "execute_result"
    }
   ],
   "source": [
    "test[3]['vertexSet']"
   ]
  },
  {
   "cell_type": "code",
   "execution_count": 22,
   "metadata": {},
   "outputs": [],
   "source": [
    "len(new_test)\n",
    "with open('Sentence_test_2.json', 'w') as f:\n",
    "    json.dump(new_test, f)"
   ]
  },
  {
   "cell_type": "code",
   "execution_count": 16,
   "metadata": {},
   "outputs": [],
   "source": [
    "len(test)\n",
    "with open('Sentence_test.json', 'w') as f:\n",
    "    json.dump(test, f)"
   ]
  },
  {
   "cell_type": "code",
   "execution_count": null,
   "metadata": {},
   "outputs": [],
   "source": []
  },
  {
   "cell_type": "code",
   "execution_count": 30,
   "metadata": {},
   "outputs": [
    {
     "data": {
      "text/plain": [
       "{'tokens': ['Polycrystalline',\n",
       "  'samples',\n",
       "  'of',\n",
       "  'SrGeO3',\n",
       "  'were',\n",
       "  'prepared',\n",
       "  'using',\n",
       "  'a',\n",
       "  'solid-state',\n",
       "  'reaction',\n",
       "  'from',\n",
       "  'SrCO3',\n",
       "  ',',\n",
       "  'GeO2',\n",
       "  'and',\n",
       "  'La2O3',\n",
       "  '.'],\n",
       " 'vertexSet': [{'tokenpositions': [0],\n",
       "   'lexicalInput': 'Polycrystalline',\n",
       "   'char_pos': '0-15',\n",
       "   'kbID': 'Descriptor'},\n",
       "  {'tokenpositions': [3],\n",
       "   'lexicalInput': 'SrGeO3',\n",
       "   'char_pos': '27-33',\n",
       "   'kbID': 'Material-target'},\n",
       "  {'tokenpositions': [5],\n",
       "   'lexicalInput': 'prepared',\n",
       "   'char_pos': '39-47',\n",
       "   'kbID': 'Operation'},\n",
       "  {'tokenpositions': [8, 9],\n",
       "   'lexicalInput': 'solid-state reaction',\n",
       "   'char_pos': '56-76',\n",
       "   'kbID': 'Operation'},\n",
       "  {'tokenpositions': [11],\n",
       "   'lexicalInput': 'SrCO3',\n",
       "   'char_pos': '82-87',\n",
       "   'kbID': 'Material-recipe'},\n",
       "  {'tokenpositions': [13],\n",
       "   'lexicalInput': 'GeO2',\n",
       "   'char_pos': '89-93',\n",
       "   'kbID': 'Material-recipe'},\n",
       "  {'tokenpositions': [15],\n",
       "   'lexicalInput': 'La2O3',\n",
       "   'char_pos': '98-103',\n",
       "   'kbID': 'Material-recipe'}],\n",
       " 'edgeSet': [{'kbID': 'Descriptor-of', 'left': [0], 'right': [3]},\n",
       "  {'kbID': 'Participant-material', 'left': [3], 'right': [5]},\n",
       "  {'kbID': 'Coreference', 'left': [5], 'right': [8, 9]},\n",
       "  {'kbID': 'Participant-material', 'left': [11], 'right': [8, 9]},\n",
       "  {'kbID': 'Participant-material', 'left': [13], 'right': [8, 9]},\n",
       "  {'kbID': 'Participant-material', 'left': [15], 'right': [8, 9]}]}"
      ]
     },
     "execution_count": 30,
     "metadata": {},
     "output_type": "execute_result"
    }
   ],
   "source": [
    "test[4]"
   ]
  },
  {
   "cell_type": "code",
   "execution_count": null,
   "metadata": {},
   "outputs": [],
   "source": []
  },
  {
   "cell_type": "code",
   "execution_count": 11,
   "metadata": {},
   "outputs": [],
   "source": [
    "data = []\n",
    "for example in test:\n",
    "    if example['vertexSet'] == []:\n",
    "        temp = ['non_synthesis', \" \".join(example['tokens']) ]\n",
    "    else:\n",
    "        temp = ['synthesis', \" \".join(example['tokens']) ] \n",
    "    data.append(temp)\n",
    "    "
   ]
  },
  {
   "cell_type": "code",
   "execution_count": null,
   "metadata": {},
   "outputs": [],
   "source": []
  },
  {
   "cell_type": "code",
   "execution_count": 13,
   "metadata": {},
   "outputs": [],
   "source": [
    "import csv\n",
    "\n",
    "header = ['category', 'text']\n",
    "\n",
    "with open('countries.csv', 'w', encoding='UTF8', newline='') as f:\n",
    "    writer = csv.writer(f)\n",
    "\n",
    "    # write the header\n",
    "    writer.writerow(header)\n",
    "\n",
    "    # write multiple rows\n",
    "    writer.writerows(data)\n"
   ]
  },
  {
   "cell_type": "code",
   "execution_count": null,
   "metadata": {},
   "outputs": [],
   "source": []
  }
 ],
 "metadata": {
  "kernelspec": {
   "display_name": "Python 3",
   "language": "python",
   "name": "python3"
  },
  "language_info": {
   "codemirror_mode": {
    "name": "ipython",
    "version": 3
   },
   "file_extension": ".py",
   "mimetype": "text/x-python",
   "name": "python",
   "nbconvert_exporter": "python",
   "pygments_lexer": "ipython3",
   "version": "3.8.3"
  }
 },
 "nbformat": 4,
 "nbformat_minor": 4
}
